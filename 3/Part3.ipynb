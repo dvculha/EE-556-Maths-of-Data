{
 "cells": [
  {
   "cell_type": "markdown",
   "metadata": {},
   "source": [
    "# Hands-on experiment 3\n",
    "## Sparsest Cut Problem via Semidefinite Programming\n",
    "\n",
    "The Uniform Sparsest Cut problem (USC) aims to find a bipartition\n",
    "$(S, \\bar{S})$ of the nodes of a graph $G = (V, E)$,\n",
    "$\\vert V \\vert = p$, which minimizes the quantity $$\\frac{E(S, \\bar{S})}{\\lvert S \\rvert \\; \\lvert \\bar{S} \\rvert},$$\n",
    "where $E(S, \\bar{S})$ is the number of edges connecting $S$ and\n",
    "$\\bar{S}$, and $\\lvert S \\rvert$ is the number of nodes in $S$. This\n",
    "problem is of broad interest, with applications in areas such as VLSI\n",
    "layout design, topological design of communication networks and image\n",
    "segmentation. Relevant to machine learning, it appears as a subproblem\n",
    "in hierarchical clustering algorithms\n",
    "[@Dasgupta2016; @Chatziafratis2018].\n",
    "\n",
    "Computing such a bipartition is NP-hard and intense research has gone\n",
    "into designing efficient approximation algorithms for this problem. In\n",
    "the seminal work of [@Arora2009] an $\\mathcal{O}(\\sqrt{\\log p})$ approximation\n",
    "algorithm is proposed for solving USC, which relies on finding a\n",
    "*well-spread* $\\ell_2^2$ geometric representation of $G$ where each node\n",
    "$i\\in V$ is mapped to a vector ${\\textbf v}_i$ in $\\mathbb{R}^p$. In this\n",
    "experimental section we focus on solving the SDP that computes this\n",
    "geometric embedding.\n",
    "\n",
    "The canonical formulation of the SDP is \n",
    "\\begin{align}\n",
    "{\\boldsymbol X}^\\star \\in \\arg \\min_{ {\\boldsymbol X} } \\bigg\\{ \\langle \\boldsymbol{C}, {\\boldsymbol X} \\rangle : &~p \\; \\mathrm{Tr}({\\boldsymbol X}) -  \\mathrm{Tr}(\\mathbf{1}_{p\\times p}{\\boldsymbol X}) = \\frac{p^2}{2}, ~~~~~~~~~~~~~~~~~~~~~~~~~~~~~~~~~~~~~~~~~~~~\\longleftarrow ~~\\equiv A({\\boldsymbol X}) = \\frac{p^2}{2}  \\\\[3mm] \n",
    "& \\; {\\boldsymbol X}_{i,j} + {\\boldsymbol X}_{j,k} - {\\boldsymbol X}_{i, k} - {\\boldsymbol X}_{j,j} \\leq 0, \\; \\forall\\ i \\neq j \\neq k \\neq i\\in V, ~~~\\longleftarrow ~~\\equiv B_{i,j,k}({\\boldsymbol X}) \\in \\mathcal{K} = (-\\infty, 0] \\tag{Problem 2} \\\\[3mm]\n",
    "&~\\underbrace{\\mathrm{Tr}({\\boldsymbol X}) \\leq p, ~{\\boldsymbol X} \\in \\mathbb{R}^{p\\times p} ,~{\\boldsymbol X}\\succeq 0}_{\\mathcal{X}} \\bigg\\},~~~~~~~~~~~~~~~~~~~~~~~~~~~~~~~~~~~~~\\longleftarrow ~~ {\\boldsymbol X}  \\in \\mathcal{X} \\text{ (the SDP cone of bounded trace)} \n",
    "\\end{align}\n",
    " where $\\boldsymbol{C}$ represents the Laplacian of graph\n",
    "$G$ and ${\\boldsymbol X}_{i,j} = \\langle {\\textbf v}_{i}, {\\textbf v}_j\\rangle$ gives the geometric\n",
    "embedding of the nodes.\n",
    "\n",
    "We can rewrite the optimization\n",
    "problem <span class=\"reference\" data-target=\"Problem 2\">2</span> as $$\n",
    "    \\min_{{\\boldsymbol X} \\in \\mathcal{X}} f({\\boldsymbol X}) + g(A({\\boldsymbol X})) ~~~~~~~~\\text{ subject to } ~~~~B_{i,j,k}({\\boldsymbol X}) \\in \\mathcal{K}, \\;\\forall\\ i \\neq j \\neq k \\neq i\\in V, \\tag{Problem 3}$$\n",
    "where $f({\\boldsymbol X}) = \\langle \\boldsymbol{C}, {\\boldsymbol X} \\rangle$ and\n",
    "$g(\\cdot) = \\delta_{\\left\\{\\frac{p^2}{2}\\right\\}}(\\cdot)$ is the\n",
    "indicator function of singleton $\\left\\{\\frac{p^2}{2}\\right\\}$."
   ]
  },
  {
   "cell_type": "markdown",
   "metadata": {},
   "source": [
    "## 3.1 Theory "
   ]
  },
  {
   "cell_type": "markdown",
   "metadata": {},
   "source": [
    "#### Question 3.1.1  (5 pts) Count the constraints\n",
    "    \n",
    "How many constraints does\n",
    "<span class=\"reference\" data-target=\"Problem 2\">Problem 2</span> have (as a function of $p$)? How does this\n",
    "number compare to the one of\n",
    "<span class=\"reference\" data-target=\"Problem 1\">Problem 1</span> from Part 2?\n",
    "\n",
    "**N.B.1**: In Part 2 the constraints are expressed in matrix form,\n",
    "while here they are listed individually. Make sure to take this into\n",
    "account (e.g., the constraint ${\\boldsymbol X} \\geq 0$ in Part 2 is applied *for\n",
    "each* entry).\n",
    "\n",
    "**N.B.2**: You can respond to this question by either computing the\n",
    "exact number of constraints, or by identifying the correct order of\n",
    "magnitude (big-O notation).\n"
   ]
  },
  {
   "cell_type": "markdown",
   "metadata": {},
   "source": [
    "<font color=\"blue\">\n",
    "\n",
    "Fill your answer here."
   ]
  },
  {
   "cell_type": "markdown",
   "metadata": {},
   "source": [
    "\n",
    "#### Question 3.2.1 (5 pts) Write down the quadratic penalty form\n",
    "\n",
    "Express the constraints in <span class=\"reference\" data-target=\"Problem 3\">Problem 3</span> in quadratic penalty form and write down the corresponding penalized objective function.\n"
   ]
  },
  {
   "cell_type": "markdown",
   "metadata": {},
   "source": [
    "<font color=\"blue\">\n",
    "\n",
    "Fill your answer here."
   ]
  },
  {
   "cell_type": "markdown",
   "metadata": {},
   "source": [
    "## 3.2 Implementation\n",
    "\n",
    "We will now observe the behavior of HCGM on three graphs\n",
    "    from the Network Repository dataset [@Rossi2015]:\n",
    "\n",
    "-   **G1:** `mammalia-primate-association-13` with $25$ nodes,\n",
    "\n",
    "-   **G2:** `55n-insecta-ant-colony1-day37` with $55$ nodes and\n",
    "\n",
    "-   **G3:** `insecta-ant-colony4-day10` with $102$ nodes."
   ]
  },
  {
   "cell_type": "markdown",
   "metadata": {},
   "source": [
    "#### Question 3.2.1 (3 points) Estimate the number of constraints\n",
    "\n",
    "Based on your calculation in point (1), give an estimate of the\n",
    "number of constraints for each dataset above.\n"
   ]
  },
  {
   "cell_type": "markdown",
   "metadata": {},
   "source": [
    "<font color=\"blue\">\n",
    "\n",
    "Fill your answer here."
   ]
  },
  {
   "cell_type": "markdown",
   "metadata": {},
   "source": [
    "#### Question 3.2.2 (2 points) Complete the implementation\n",
    "\n",
    "We provide most of the code for solving this problem below. Use the implementation of `lmo` and `HCGM_update` you completed in Part 2. Run the\n",
    "algorithm for each dataset (you can cook your dinner in the\n",
    "meantime). Include the generated plots in your submitted notebook. "
   ]
  },
  {
   "cell_type": "code",
   "execution_count": null,
   "metadata": {},
   "outputs": [],
   "source": [
    "from lib.part3.helpers import *"
   ]
  },
  {
   "cell_type": "code",
   "execution_count": null,
   "metadata": {},
   "outputs": [],
   "source": [
    "def lmo(grad, kappa):\n",
    "    # Copy from Part 2"
   ]
  },
  {
   "cell_type": "code",
   "execution_count": null,
   "metadata": {},
   "outputs": [],
   "source": [
    "def HCGM_initialize(f, Xzero, beta0):\n",
    "    k = 0\n",
    "    return HCGM_state(x_k = Xzero, k = k, beta0 = beta0)"
   ]
  },
  {
   "cell_type": "code",
   "execution_count": null,
   "metadata": {},
   "outputs": [],
   "source": [
    "def HCGM_update(p : ConstrainedProblem, state : HCGM_state):\n",
    "    # Copy from Part 2"
   ]
  },
  {
   "cell_type": "code",
   "execution_count": null,
   "metadata": {},
   "outputs": [],
   "source": [
    "HCGM = OptAlgorithm(\"HCGM\", HCGM_initialize, HCGM_update)"
   ]
  },
  {
   "cell_type": "code",
   "execution_count": null,
   "metadata": {},
   "outputs": [],
   "source": [
    "problem = construct_problem('lib/part3/data/25mammalia-primate-association-13.mat')\n",
    "run_HCGM(problem, HCGM, maxit=int(1e3), beta0=5)"
   ]
  },
  {
   "cell_type": "code",
   "execution_count": null,
   "metadata": {},
   "outputs": [],
   "source": [
    "problem = construct_problem('lib/part3/data/55n-insecta-ant-colony1-day37.mat', beta0=5)\n",
    "run_HCGM(problem, HCGM, maxit=int(1e3))"
   ]
  },
  {
   "cell_type": "code",
   "execution_count": null,
   "metadata": {},
   "outputs": [],
   "source": [
    "problem = construct_problem('lib/part3/data/102n-insecta-ant-colony4-day10.mat', beta0=5)\n",
    "run_HCGM(problem, HCGM, maxit=int(1e3))"
   ]
  },
  {
   "cell_type": "markdown",
   "metadata": {},
   "source": [
    "#### Question 3.2.3 (2 points) Running time\n",
    "\n",
    "What do you notice about the running times of the algorithm for the three\n",
    "problem instances? \n"
   ]
  },
  {
   "cell_type": "markdown",
   "metadata": {},
   "source": [
    "<font color=\"blue\">\n",
    "    \n",
    "\n",
    "Fill your answer here."
   ]
  },
  {
   "cell_type": "markdown",
   "metadata": {},
   "source": [
    "#### Question 3.2.4 (3 points) Bottlenecks\n",
    "\n",
    "What are the potential bottlenecks to applying\n",
    "this method to large graphs?"
   ]
  },
  {
   "cell_type": "markdown",
   "metadata": {},
   "source": [
    "<font color=\"blue\">\n",
    "    \n",
    "Fill your answer here."
   ]
  },
  {
   "cell_type": "markdown",
   "metadata": {},
   "source": [
    "One way to address the issues you identified above, especially if\n",
    "low accuracy suffices, is to resort to stochastic algorithms (the\n",
    "reasoning here is similar to the one which stands behind GD vs.\n",
    "SGD). Such an example are the methods proposed\n",
    "in [@Vladarean2020], where the framework of HCGM is used\n",
    "in conjunction with stochastic gradients and variance reduction for\n",
    "alleviating some of the shortcomings of the full-batch method you\n",
    "implemented above. A brief presentation of these methods is provided\n",
    "in the supplementary section of Lecture 13."
   ]
  },
  {
   "cell_type": "markdown",
   "metadata": {},
   "source": [
    "# References\n",
    "\n",
    "<div id=\"refs\" class=\"references csl-bib-body hanging-indent\"\n",
    "role=\"doc-bibliography\">\n",
    "<div id=\"ref-arv\" class=\"csl-entry\" role=\"doc-biblioentry\">\n",
    "[@Arora2009] Arora, Sanjeev, Satish Rao, and Umesh Vazirani. 2009. <span>“Expander\n",
    "Flows, Geometric Embeddings and Graph Partitioning.”</span> <em>Journal\n",
    "of the ACM (JACM)</em> 56 (2): 5.\n",
    "</div>\n",
    "<div id=\"ref-chatziafratis2018hierarchical\" class=\"csl-entry\"\n",
    "role=\"doc-biblioentry\">\n",
    "[@Chatziafratis2018] Chatziafratis, Vaggos, Rad Niazadeh, and Moses Charikar. 2018.\n",
    "<span>“Hierarchical Clustering with Structural Constraints.”</span>\n",
    "<em>arXiv Preprint arXiv:1805.09476</em>.\n",
    "</div>\n",
    "<div id=\"ref-dasgupta2016cost\" class=\"csl-entry\" role=\"doc-biblioentry\">\n",
    "[@Dasgupta2016] Dasgupta, Sanjoy. 2016. <span>“A Cost Function for Similarity-Based\n",
    "Hierarchical Clustering.”</span> In <em>Proceedings of the Forty-Eighth\n",
    "Annual ACM Symposium on Theory of Computing</em>, 118–27.\n",
    "</div>\n",
    "<div id=\"ref-nr\" class=\"csl-entry\" role=\"doc-biblioentry\">\n",
    "[@Rossi2015] Rossi, Ryan A., and Nesreen K. Ahmed. 2015. <span>“The Network Data\n",
    "Repository with Interactive Graph Analytics and Visualization.”</span>\n",
    "In <em>AAAI</em>. <a\n",
    "href=\"http://networkrepository.com\">http://networkrepository.com</a>.\n",
    "</div>\n",
    "<div id=\"ref-vladarean2020conditional\" class=\"csl-entry\"\n",
    "role=\"doc-biblioentry\">\n",
    "[@Vladarean2020] Vladarean, Maria-Luiza, Ahmet Alacaoglu, Ya-Ping Hsieh, and Volkan\n",
    "Cevher. 2020. <span>“Conditional Gradient Methods for Stochastically\n",
    "Constrained Convex Minimization.”</span> In <em>International Conference\n",
    "on Machine Learning</em>, 9775–85. PMLR.\n",
    "</div>\n",
    "</div>"
   ]
  }
 ],
 "metadata": {
  "kernelspec": {
   "display_name": "Python 3 (ipykernel)",
   "language": "python",
   "name": "python3"
  },
  "language_info": {
   "codemirror_mode": {
    "name": "ipython",
    "version": 3
   },
   "file_extension": ".py",
   "mimetype": "text/x-python",
   "name": "python",
   "nbconvert_exporter": "python",
   "pygments_lexer": "ipython3",
   "version": "3.9.15"
  },
  "vscode": {
   "interpreter": {
    "hash": "c30f2af5f468e7f5b45bcc30fca5f4886c90d54777aed916ed5f6294dfb24bf2"
   }
  }
 },
 "nbformat": 4,
 "nbformat_minor": 4
}
